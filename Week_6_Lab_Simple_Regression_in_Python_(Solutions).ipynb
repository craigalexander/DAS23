{
  "nbformat": 4,
  "nbformat_minor": 0,
  "metadata": {
    "colab": {
      "provenance": [],
      "toc_visible": true,
      "authorship_tag": "ABX9TyPT8zwnfJcGKCq8jkcUcbPs",
      "include_colab_link": true
    },
    "kernelspec": {
      "name": "python3",
      "display_name": "Python 3"
    },
    "language_info": {
      "name": "python"
    }
  },
  "cells": [
    {
      "cell_type": "markdown",
      "metadata": {
        "id": "view-in-github",
        "colab_type": "text"
      },
      "source": [
        "<a href=\"https://colab.research.google.com/github/craigalexander/DAS23/blob/main/Week_6_Lab_Simple_Regression_in_Python_(Solutions).ipynb\" target=\"_parent\"><img src=\"https://colab.research.google.com/assets/colab-badge.svg\" alt=\"Open In Colab\"/></a>"
      ]
    },
    {
      "cell_type": "markdown",
      "source": [
        "# Data Analysis Skills - Regression Modelling with Python\n",
        "\n",
        "\n"
      ],
      "metadata": {
        "id": "5_IysUEYHzTY"
      }
    },
    {
      "cell_type": "markdown",
      "source": [
        "# Introduction\n",
        "\n",
        "In Week 4, we covered how to model data in R using regression models. This week, we will look at how we can carry out the same tasks using Python. \n",
        "\n",
        "For this lab, we will be using the same examples as in week 4.\n",
        "\n",
        "As before, the key ideas behind modelling the data is to infer a relationship between:\n",
        "\n",
        "\n",
        "*   **outcome or response variable** $y$ and\n",
        "*   an **explanatory (or predictor) variable(s)** $x$, which can be referred to as an **independent variable** or **covariate**\n",
        "\n",
        "Modelling can be used for two purposes:\n",
        "\n",
        "\n",
        "1.   **Explanation**: For describing the relationship between an outcome variable $y$ and an explanatory variable  $x$, and determining the potential significance of such relationships using quantifiable measures. \n",
        "2.   **Prediction**: for predicting the outcome variable  $y$ given information from one or more explanatory variables.\n",
        "\n",
        "\n",
        "\n",
        "There are many different modelling techniques. However, we will begin with one of the easier to understand and commonly-used approaches, linear regression. In particular, we will start by looking at simple linear regression (SLR), where we only have one explanatory variable. We will then extend these models to allow for more than one explanatory variable using multiple linear regression (MLR).\n"
      ],
      "metadata": {
        "id": "hDeIy4xeQZDn"
      }
    },
    {
      "cell_type": "markdown",
      "source": [
        "# Simple Linear Regression\n",
        "\n",
        "For a response variable  $y$ and an explanatory variable  $x$, the data can be expressed as:\n",
        "\n",
        "$$(y_{i},x_{i}), i=1, \\dots, n$$\n",
        "\n",
        "That is, we have  $n$ observations of  $y$ and  $x$. A statistical model is a mathematical statement describing the variability in a random variable  $y$, which includes any relationship with the explanatory variable  $x$. The inclusion of random (unpredictable) components  $\\epsilon$, makes the model statistical, rather than deterministic. A simple linear regression model involves, as the name suggests, fitting a linear regression line to the data. Hence, a simple linear regression model can be written as follows:\n",
        "\n",
        "\n",
        "\n",
        "*   $y_i$ is the $i^{\\text{th}}$ observation of the response variable;\n",
        "*   $\\alpha$ is the **intercept**; \n",
        "*   $\\beta$ is the **slope** of the regression line;\n",
        "*   $x_i$ is the $i^{\\text{th}}$ observation of the explanatory variable; and\n",
        "*   $\\epsilon_i$ is the $i^{\\text{th}}$ random component.\n",
        "\n",
        "The random components, $\\epsilon_i$, are normally distributed with constant variance $\\sigma^2$, such that we are essentially adding random white noise to the deterministic part of the model $(\\alpha + \\beta x_i)$. Thus, the full probability model for $y_i$ given $x_i$ $(y_{i}|x_i)$ can be written as\n",
        "\n",
        "$$(y_{i}|x_i) \\sim N(\\alpha + \\beta x_i, \\sigma^2)$$\n",
        "\n",
        "Hence, the mean comes from the deterministic part of the model, while the variance comes from the random part. \n",
        "\n",
        "In the lab next week, we will look at how to choose between different models. For this lab, we will focus on using the p-value to decide which terms to include in the model. We will use the standard convention of choosing a 5% level of significnce, and then decide to include terms in the mdel if the p-value of the associated parameter estimate is less than 0.05 (i.e. reject the null hypothesis that the parameter is zero)."
      ],
      "metadata": {
        "id": "q5goQ6eHTNz5"
      }
    },
    {
      "cell_type": "markdown",
      "source": [
        "# Simple linear regression with one numerical explanatory variable\n",
        "\n",
        "First, we will import the following libraries"
      ],
      "metadata": {
        "id": "kfqJbOyckjua"
      }
    },
    {
      "cell_type": "code",
      "execution_count": 5,
      "metadata": {
        "id": "8DSXnXe8HwJs"
      },
      "outputs": [],
      "source": [
        "import pandas as pd\n",
        "import numpy as np\n",
        "import matplotlib.pyplot as plt\n",
        "import seaborn as sns\n",
        "from statsmodels.formula.api import ols"
      ]
    },
    {
      "cell_type": "markdown",
      "source": [
        "Student feedback in higher education is extremely important when it comes to the evaluation of teaching techniques, materials, and improvements in teaching methods and technologies. However, there have been studies into potential bias factors when feedback is provided, such as the physical appearance of the teacher; see [Economics of Education Review](https://www.sciencedirect.com/journal/economics-of-education-review) for details. Here, we shall look at a study from student evaluations of  $n = 463$ professors from The University of Texas at Austin. In particular, we will examine the evaluation scores of the instructors based purely on one numerical variable: their beauty score. Therefore, our simple linear regression model will consist of\n",
        "\n",
        "\n",
        "\n",
        "*   the numerical outcome variable *teaching score $(y)$*; and\n",
        "*   the numerical explanatory variable *beauty score ($x$)*.\n",
        "\n"
      ],
      "metadata": {
        "id": "4LW0e20gmahX"
      }
    },
    {
      "cell_type": "markdown",
      "source": [
        "# Exploratory data analysis\n",
        "\n",
        "Before you ever do any statistical modelling of data, you should always perform an **exploratory data analysis** of the data. Performing an exploratory data analysis can give us an idea of the distribution of the data, and whether it contains any strange values, such as **outliers** or **missing values**. However, more importantly, it is used to inform which statistical model we should fit to the data. An exploratory data analysis may involve:\n",
        "\n",
        "\n",
        "\n",
        "1.   Looking at the raw values of the data, either looking in the spreadsheet directly, or using Python\n",
        "2.   By computing various summary statistics, such as the *five-number summary*, means, and standard deviations.\n",
        "3.   Plotting the data using various visualisation techniques\n",
        "\n",
        "Firstly, we will need to read in the data `evals`. You can download the file from Moodle, or read this in via Github using the following command:\n",
        "\n",
        "\n"
      ],
      "metadata": {
        "id": "iRFmFJytnzv9"
      }
    },
    {
      "cell_type": "code",
      "source": [
        "evals_url = 'https://github.com/craigalexander/DAS23/raw/main/Data/evals.csv'\n",
        "evals = pd.read_csv(evals_url,index_col=0) # set index_col=0 to specify first column should be an index"
      ],
      "metadata": {
        "id": "ak_ChdYBQOIb"
      },
      "execution_count": 6,
      "outputs": []
    },
    {
      "cell_type": "markdown",
      "source": [
        "We can look at the raw values from `evals` using the `print` command"
      ],
      "metadata": {
        "id": "DTIMusRX0UQZ"
      }
    },
    {
      "cell_type": "code",
      "source": [
        "print(evals)"
      ],
      "metadata": {
        "colab": {
          "base_uri": "https://localhost:8080/"
        },
        "id": "A0xVF64M0gF8",
        "outputId": "ab815b7e-b9a8-47c6-86bd-aa7b4b2a8cf3"
      },
      "execution_count": 7,
      "outputs": [
        {
          "output_type": "stream",
          "name": "stdout",
          "text": [
            "     prof_ID  score  age  bty_avg  gender     ethnicity     language  \\\n",
            "ID                                                                     \n",
            "1          1    4.7   36    5.000  female      minority      english   \n",
            "2          1    4.1   36    5.000  female      minority      english   \n",
            "3          1    3.9   36    5.000  female      minority      english   \n",
            "4          1    4.8   36    5.000  female      minority      english   \n",
            "5          2    4.6   59    3.000    male  not minority      english   \n",
            "..       ...    ...  ...      ...     ...           ...          ...   \n",
            "459       93    4.5   32    6.833    male  not minority      english   \n",
            "460       94    3.5   42    5.333  female      minority  non-english   \n",
            "461       94    4.4   42    5.333  female      minority  non-english   \n",
            "462       94    4.4   42    5.333  female      minority  non-english   \n",
            "463       94    4.1   42    5.333  female      minority  non-english   \n",
            "\n",
            "             rank  pic_outfit pic_color  cls_did_eval  cls_students cls_level  \n",
            "ID                                                                             \n",
            "1    tenure track  not formal     color            24            43     upper  \n",
            "2    tenure track  not formal     color            86           125     upper  \n",
            "3    tenure track  not formal     color            76           125     upper  \n",
            "4    tenure track  not formal     color            77           123     upper  \n",
            "5         tenured  not formal     color            17            20     upper  \n",
            "..            ...         ...       ...           ...           ...       ...  \n",
            "459  tenure track  not formal     color            52            86     upper  \n",
            "460  tenure track  not formal     color            48            84     upper  \n",
            "461  tenure track  not formal     color            52            67     upper  \n",
            "462  tenure track  not formal     color            54            66     upper  \n",
            "463  tenure track  not formal     color            28            35     lower  \n",
            "\n",
            "[463 rows x 13 columns]\n"
          ]
        }
      ]
    },
    {
      "cell_type": "markdown",
      "source": [
        "**Question** \n",
        "\n",
        "How many observations are in the `evals` dataset?"
      ],
      "metadata": {
        "id": "2vSAguLF0yR_"
      }
    },
    {
      "cell_type": "code",
      "source": [
        "print(evals.shape)"
      ],
      "metadata": {
        "colab": {
          "base_uri": "https://localhost:8080/"
        },
        "id": "D7HcEODN17UA",
        "outputId": "82e78efe-2411-41f4-c787-d58e321e99af"
      },
      "execution_count": 8,
      "outputs": [
        {
          "output_type": "stream",
          "name": "stdout",
          "text": [
            "(463, 13)\n"
          ]
        }
      ]
    },
    {
      "cell_type": "markdown",
      "source": [
        "Currently, we are only interested in the instructors teaching (`score`) and beauty (`bty_avg`) scores, and so we can look at a subset of the data as follows:"
      ],
      "metadata": {
        "id": "Y_lDxOrR2AKz"
      }
    },
    {
      "cell_type": "code",
      "source": [
        "evals_scores = evals[[\"score\",\"bty_avg\"]]"
      ],
      "metadata": {
        "id": "f2wlrmea2Qra"
      },
      "execution_count": 9,
      "outputs": []
    },
    {
      "cell_type": "markdown",
      "source": [
        "The outcome variable `score` is a numerical average teaching score based on students' evaluations between 1 and 5. The explanatory variable `bty_avg` is the numerical variable of the average beauty score from a panel of six students' scores between 1 and 10.\n",
        "\n",
        "As both variables are numerical, we can compute summary statistics for them using the `describe()` function as follows:"
      ],
      "metadata": {
        "id": "R4dd0gtx29xA"
      }
    },
    {
      "cell_type": "code",
      "source": [
        "evals_scores.describe()"
      ],
      "metadata": {
        "colab": {
          "base_uri": "https://localhost:8080/",
          "height": 300
        },
        "id": "Ow65kNb36yn6",
        "outputId": "0d468682-6ff9-486c-97ab-a7823878084a"
      },
      "execution_count": 10,
      "outputs": [
        {
          "output_type": "execute_result",
          "data": {
            "text/plain": [
              "            score     bty_avg\n",
              "count  463.000000  463.000000\n",
              "mean     4.174730    4.417844\n",
              "std      0.543865    1.527380\n",
              "min      2.300000    1.667000\n",
              "25%      3.800000    3.167000\n",
              "50%      4.300000    4.333000\n",
              "75%      4.600000    5.500000\n",
              "max      5.000000    8.167000"
            ],
            "text/html": [
              "\n",
              "  <div id=\"df-b2ae6bf7-4590-4195-ac82-88082c2770af\">\n",
              "    <div class=\"colab-df-container\">\n",
              "      <div>\n",
              "<style scoped>\n",
              "    .dataframe tbody tr th:only-of-type {\n",
              "        vertical-align: middle;\n",
              "    }\n",
              "\n",
              "    .dataframe tbody tr th {\n",
              "        vertical-align: top;\n",
              "    }\n",
              "\n",
              "    .dataframe thead th {\n",
              "        text-align: right;\n",
              "    }\n",
              "</style>\n",
              "<table border=\"1\" class=\"dataframe\">\n",
              "  <thead>\n",
              "    <tr style=\"text-align: right;\">\n",
              "      <th></th>\n",
              "      <th>score</th>\n",
              "      <th>bty_avg</th>\n",
              "    </tr>\n",
              "  </thead>\n",
              "  <tbody>\n",
              "    <tr>\n",
              "      <th>count</th>\n",
              "      <td>463.000000</td>\n",
              "      <td>463.000000</td>\n",
              "    </tr>\n",
              "    <tr>\n",
              "      <th>mean</th>\n",
              "      <td>4.174730</td>\n",
              "      <td>4.417844</td>\n",
              "    </tr>\n",
              "    <tr>\n",
              "      <th>std</th>\n",
              "      <td>0.543865</td>\n",
              "      <td>1.527380</td>\n",
              "    </tr>\n",
              "    <tr>\n",
              "      <th>min</th>\n",
              "      <td>2.300000</td>\n",
              "      <td>1.667000</td>\n",
              "    </tr>\n",
              "    <tr>\n",
              "      <th>25%</th>\n",
              "      <td>3.800000</td>\n",
              "      <td>3.167000</td>\n",
              "    </tr>\n",
              "    <tr>\n",
              "      <th>50%</th>\n",
              "      <td>4.300000</td>\n",
              "      <td>4.333000</td>\n",
              "    </tr>\n",
              "    <tr>\n",
              "      <th>75%</th>\n",
              "      <td>4.600000</td>\n",
              "      <td>5.500000</td>\n",
              "    </tr>\n",
              "    <tr>\n",
              "      <th>max</th>\n",
              "      <td>5.000000</td>\n",
              "      <td>8.167000</td>\n",
              "    </tr>\n",
              "  </tbody>\n",
              "</table>\n",
              "</div>\n",
              "      <button class=\"colab-df-convert\" onclick=\"convertToInteractive('df-b2ae6bf7-4590-4195-ac82-88082c2770af')\"\n",
              "              title=\"Convert this dataframe to an interactive table.\"\n",
              "              style=\"display:none;\">\n",
              "        \n",
              "  <svg xmlns=\"http://www.w3.org/2000/svg\" height=\"24px\"viewBox=\"0 0 24 24\"\n",
              "       width=\"24px\">\n",
              "    <path d=\"M0 0h24v24H0V0z\" fill=\"none\"/>\n",
              "    <path d=\"M18.56 5.44l.94 2.06.94-2.06 2.06-.94-2.06-.94-.94-2.06-.94 2.06-2.06.94zm-11 1L8.5 8.5l.94-2.06 2.06-.94-2.06-.94L8.5 2.5l-.94 2.06-2.06.94zm10 10l.94 2.06.94-2.06 2.06-.94-2.06-.94-.94-2.06-.94 2.06-2.06.94z\"/><path d=\"M17.41 7.96l-1.37-1.37c-.4-.4-.92-.59-1.43-.59-.52 0-1.04.2-1.43.59L10.3 9.45l-7.72 7.72c-.78.78-.78 2.05 0 2.83L4 21.41c.39.39.9.59 1.41.59.51 0 1.02-.2 1.41-.59l7.78-7.78 2.81-2.81c.8-.78.8-2.07 0-2.86zM5.41 20L4 18.59l7.72-7.72 1.47 1.35L5.41 20z\"/>\n",
              "  </svg>\n",
              "      </button>\n",
              "      \n",
              "  <style>\n",
              "    .colab-df-container {\n",
              "      display:flex;\n",
              "      flex-wrap:wrap;\n",
              "      gap: 12px;\n",
              "    }\n",
              "\n",
              "    .colab-df-convert {\n",
              "      background-color: #E8F0FE;\n",
              "      border: none;\n",
              "      border-radius: 50%;\n",
              "      cursor: pointer;\n",
              "      display: none;\n",
              "      fill: #1967D2;\n",
              "      height: 32px;\n",
              "      padding: 0 0 0 0;\n",
              "      width: 32px;\n",
              "    }\n",
              "\n",
              "    .colab-df-convert:hover {\n",
              "      background-color: #E2EBFA;\n",
              "      box-shadow: 0px 1px 2px rgba(60, 64, 67, 0.3), 0px 1px 3px 1px rgba(60, 64, 67, 0.15);\n",
              "      fill: #174EA6;\n",
              "    }\n",
              "\n",
              "    [theme=dark] .colab-df-convert {\n",
              "      background-color: #3B4455;\n",
              "      fill: #D2E3FC;\n",
              "    }\n",
              "\n",
              "    [theme=dark] .colab-df-convert:hover {\n",
              "      background-color: #434B5C;\n",
              "      box-shadow: 0px 1px 3px 1px rgba(0, 0, 0, 0.15);\n",
              "      filter: drop-shadow(0px 1px 2px rgba(0, 0, 0, 0.3));\n",
              "      fill: #FFFFFF;\n",
              "    }\n",
              "  </style>\n",
              "\n",
              "      <script>\n",
              "        const buttonEl =\n",
              "          document.querySelector('#df-b2ae6bf7-4590-4195-ac82-88082c2770af button.colab-df-convert');\n",
              "        buttonEl.style.display =\n",
              "          google.colab.kernel.accessAllowed ? 'block' : 'none';\n",
              "\n",
              "        async function convertToInteractive(key) {\n",
              "          const element = document.querySelector('#df-b2ae6bf7-4590-4195-ac82-88082c2770af');\n",
              "          const dataTable =\n",
              "            await google.colab.kernel.invokeFunction('convertToInteractive',\n",
              "                                                     [key], {});\n",
              "          if (!dataTable) return;\n",
              "\n",
              "          const docLinkHtml = 'Like what you see? Visit the ' +\n",
              "            '<a target=\"_blank\" href=https://colab.research.google.com/notebooks/data_table.ipynb>data table notebook</a>'\n",
              "            + ' to learn more about interactive tables.';\n",
              "          element.innerHTML = '';\n",
              "          dataTable['output_type'] = 'display_data';\n",
              "          await google.colab.output.renderOutput(dataTable, element);\n",
              "          const docLink = document.createElement('div');\n",
              "          docLink.innerHTML = docLinkHtml;\n",
              "          element.appendChild(docLink);\n",
              "        }\n",
              "      </script>\n",
              "    </div>\n",
              "  </div>\n",
              "  "
            ]
          },
          "metadata": {},
          "execution_count": 10
        }
      ]
    },
    {
      "cell_type": "markdown",
      "source": [
        "This provides us with a numerical summary of the data, similar to the output of the `summary` function in R.\n",
        "\n",
        "These summary statistics give us an idea of how both variables are distributed. For example, the mean teaching score (`score`) is 4.17 out of 5, while the mean beauty score (`bty_avg`) is 4.42 out of 10. Also, the middle 50% of the data for `score` lies between 3.8 and 4.6, while the middle 50% of `bty_avg` lies between 3.17 and 5.5. "
      ],
      "metadata": {
        "id": "azCPGMDd62O_"
      }
    },
    {
      "cell_type": "markdown",
      "source": [
        "# Correlation\n",
        "\n",
        "The above summary statistics provide information about each variable separately. However, we are interested in a potential relationship between the two variables and as such it would be of interest to evaluate some statistic that considers both variables simultaneously. One such statistic is the **correlation**, which ranges between -1 and 1 and describes the strength of the linear relationship between two numerical variables, such that\n",
        "\n",
        "\n",
        "\n",
        "*   -1 indicates a perfect *negative relationship*. That is, as the values of one variable increase, the values of the other decrease.\n",
        "*   0 indicates no relationship. The values of both variables increase/decrease independently of one another.\n",
        "*   1 indicates a perfect *positive relationship*. That is, the values of both variables increase simultaneously.\n",
        "\n",
        "The correlation coefficient can be computed in Python using the `corr` function. We can obtain the correlation matrix of a data frame by using the structure `dataframe.corr()`, replacing `dataframe` with our data frame of interest. To obtain the singlular correlation value between two specific colums, we can specify `print(dataframe['column1'].corr(dataframe['column2']))`, where `dataframe` is our data frame of interest and `column1` & `column2` correspond to our columns of interest.\n",
        "\n"
      ],
      "metadata": {
        "id": "afrp6QVFCGz7"
      }
    },
    {
      "cell_type": "code",
      "source": [
        "print(evals_scores.corr())\n"
      ],
      "metadata": {
        "colab": {
          "base_uri": "https://localhost:8080/"
        },
        "id": "XkwYq3iT8irR",
        "outputId": "c0f16052-d93e-455f-f2b1-7e78600d4673"
      },
      "execution_count": 11,
      "outputs": [
        {
          "output_type": "stream",
          "name": "stdout",
          "text": [
            "            score   bty_avg\n",
            "score    1.000000  0.187142\n",
            "bty_avg  0.187142  1.000000\n"
          ]
        }
      ]
    },
    {
      "cell_type": "code",
      "source": [
        "print(evals_scores['score'].corr(evals_scores['bty_avg']))"
      ],
      "metadata": {
        "colab": {
          "base_uri": "https://localhost:8080/"
        },
        "id": "th2LAgtfD9jW",
        "outputId": "82a91f3b-4614-4fa6-e1eb-1ae9def791af"
      },
      "execution_count": 12,
      "outputs": [
        {
          "output_type": "stream",
          "name": "stdout",
          "text": [
            "0.18714235486847425\n"
          ]
        }
      ]
    },
    {
      "cell_type": "markdown",
      "source": [
        "Here, we are given a correlation coefficient of 0.187 for the relationship between teaching (`score`) and beauty (`bty_avg`) scores. This suggests a rather weakly positive linear relationship between the two variables. There is some subjective interpretation surrounding correlation coefficients not very close to -1, 0, 1. The table below provides a rough guide as to the verbal interpretation of a correlation coefficient.\n",
        "\n",
        "Correlation coefficient | Verbal interpretation\n",
        ":-----------------------|:----------------------\n",
        "0.90 to 1.00 (-0.90 to -1.00) | Very strong positive (negative) correlation\n",
        "0.70 to 0.90 (-0.70 to -0.90) | Strong positive (negative) correlation\n",
        "0.50 to 0.70 (-0.50 to -0.70) | Moderate positive (negative) correlation\n",
        "0.30 to 0.50 (-0.30 to -0.50) | Weak positive (negative) correlation\n",
        "0.00 to 0.30 (0.00 to -0.30) | Very weak positive (negative) correlation\n",
        "\n",
        "\n",
        "The next step in our exploratory data analysis is to visualise the data using appropriate plotting techniques. We can either use the `matplotlib` or `seaborn` libraries for plotting. Here, we will focus on using `seaborn` as it's interface is similar to `qplot` in `ggplot2`.\n"
      ],
      "metadata": {
        "id": "mbuzDtWvD-TZ"
      }
    },
    {
      "cell_type": "code",
      "source": [
        "sp=sns.relplot(x=\"bty_avg\",y=\"score\",data=evals_scores)\n",
        "sp.set(xlabel='Beauty Score',ylabel='Teaching Score',title='Relationship of teaching and beauty scores')\n",
        "plt.show()"
      ],
      "metadata": {
        "colab": {
          "base_uri": "https://localhost:8080/",
          "height": 385
        },
        "id": "YxzHpRvlGKP4",
        "outputId": "18d53072-ed75-4ae9-c9e8-729c9fd89e3f"
      },
      "execution_count": 13,
      "outputs": [
        {
          "output_type": "display_data",
          "data": {
            "text/plain": [
              "<Figure size 360x360 with 1 Axes>"
            ],
            "image/png": "[encoded data removed]"
          },
          "metadata": {
            "needs_background": "light"
          }
        }
      ]
    },
    {
      "cell_type": "markdown",
      "source": [
        "What can we observe from the scatterplot? Well, here it can be hard to see the weakly positive linear relationship suggested by the correlation coefficient (0.187), which is why our correlation coefficient is considered very weak in the verbal interpretation.\n",
        "\n",
        "Additionally, as our numerical variables are averages of integers (or whole numbers), a lot of the values will be plotted on top of one another. Remember, from Week 1, that this is referred to as over-plotting, and can be alleviated by slightly nudging (jittering) the points in a random direction. For example, let's look at the three points in the top-right of the scatterplot that have a beauty score slightly less than 8. Are there really only three values plotted there, or are there more that we cannot see due to over-plotting? Let's find out by adding some jitter to the plot. \n",
        "\n",
        "We can add jitter to a `seaborn` plot by using the `regplot` command, which is used to superimpose a regression fit onto a plot. The jitter can be controlled in both directions using the `x_jitter` and `y_jitter` commands. "
      ],
      "metadata": {
        "id": "RnxC7xAaIB7A"
      }
    },
    {
      "cell_type": "code",
      "source": [
        "sp=sns.regplot(data = evals_scores, x = 'bty_avg', y = 'score', fit_reg = False,\n",
        "           x_jitter = 0.1, y_jitter = 0.1)\n",
        "sp.set(xlabel='Beauty Score',ylabel='Teaching Score',title='Relationship of teaching and beauty scores')\n",
        "plt.show()"
      ],
      "metadata": {
        "colab": {
          "base_uri": "https://localhost:8080/",
          "height": 295
        },
        "id": "536o1QrHLhSI",
        "outputId": "8b7f40a0-48a5-425d-d1e9-8f4f676a10a0"
      },
      "execution_count": 14,
      "outputs": [
        {
          "output_type": "display_data",
          "data": {
            "text/plain": [
              "<Figure size 432x288 with 1 Axes>"
            ],
            "image/png": "[encoded data removed]"
          },
          "metadata": {
            "needs_background": "light"
          }
        }
      ]
    },
    {
      "cell_type": "markdown",
      "source": [
        "From the jittered scatterplot we can see that:\n",
        "\n",
        "\n",
        "1.   There are actually more than just three points plotted in the top-right; and\n",
        "2.   There are more instructors with a beauty score between 3 and 4.5 than originally appears due to over-plotting.\n",
        "\n",
        "**Note**: jittering does not actually change the values within a data set, it is merely a tool for visualisation purposes. Hence, we shall continue on with plotting the original data.\n",
        "\n"
      ],
      "metadata": {
        "id": "imP6vJs4N2hl"
      }
    },
    {
      "cell_type": "markdown",
      "source": [
        "# Formal analysis\n",
        "\n",
        "After completing an exploratory data analysis the next step is to perform a **formal analysis** on the data. This involves constructing an appropriate statistical model from the information gathered during the exploratory data analysis step. Here, we shall be fitting a simple linear regression model to the data on teaching and beauty scores, where our objective is to acquire the best fitting regression line. This is done by finding estimates of the intercept (α) and slope (β) which give us the best-fitting line to the data. This can be done in Python using the class `OLS` from `statsmodels.api` to fit a linear model to the data. \n",
        "\n",
        "To make the model fitting as close to R as possible, we can use the `formula.api` extension in `statsmodels` to specify our models in the same syntax as R. "
      ],
      "metadata": {
        "id": "7VuphIaEOHwW"
      }
    },
    {
      "cell_type": "markdown",
      "source": [
        "Next we set up the model fitting algorithm):"
      ],
      "metadata": {
        "id": "Y1alRoX6TD78"
      }
    },
    {
      "cell_type": "code",
      "source": [
        "model = ols('score~bty_avg',data=evals_scores)\n",
        "result=model.fit()\n"
      ],
      "metadata": {
        "id": "MhF4Qj5ATQ3-"
      },
      "execution_count": 15,
      "outputs": []
    },
    {
      "cell_type": "markdown",
      "source": [
        "We can obtain a summary of the model fit (in a similar fashion to R) by using the `summary` method"
      ],
      "metadata": {
        "id": "2QL7r4TDTrTs"
      }
    },
    {
      "cell_type": "code",
      "source": [
        "print(result.summary())"
      ],
      "metadata": {
        "colab": {
          "base_uri": "https://localhost:8080/"
        },
        "id": "c-CuWXEKTrdz",
        "outputId": "864a1273-bbe2-4601-f2f1-828f1bc25fe7"
      },
      "execution_count": 16,
      "outputs": [
        {
          "output_type": "stream",
          "name": "stdout",
          "text": [
            "                            OLS Regression Results                            \n",
            "==============================================================================\n",
            "Dep. Variable:                  score   R-squared:                       0.035\n",
            "Model:                            OLS   Adj. R-squared:                  0.033\n",
            "Method:                 Least Squares   F-statistic:                     16.73\n",
            "Date:                Mon, 13 Feb 2023   Prob (F-statistic):           5.08e-05\n",
            "Time:                        12:58:50   Log-Likelihood:                -366.22\n",
            "No. Observations:                 463   AIC:                             736.4\n",
            "Df Residuals:                     461   BIC:                             744.7\n",
            "Df Model:                           1                                         \n",
            "Covariance Type:            nonrobust                                         \n",
            "==============================================================================\n",
            "                 coef    std err          t      P>|t|      [0.025      0.975]\n",
            "------------------------------------------------------------------------------\n",
            "Intercept      3.8803      0.076     50.961      0.000       3.731       4.030\n",
            "bty_avg        0.0666      0.016      4.090      0.000       0.035       0.099\n",
            "==============================================================================\n",
            "Omnibus:                       33.007   Durbin-Watson:                   1.267\n",
            "Prob(Omnibus):                  0.000   Jarque-Bera (JB):               38.797\n",
            "Skew:                          -0.709   Prob(JB):                     3.76e-09\n",
            "Kurtosis:                       3.007   Cond. No.                         14.9\n",
            "==============================================================================\n",
            "\n",
            "Notes:\n",
            "[1] Standard Errors assume that the covariance matrix of the errors is correctly specified.\n"
          ]
        }
      ]
    },
    {
      "cell_type": "markdown",
      "source": [
        "This tells us that our best-fitting line to the data is:\n",
        "\n",
        "$$\\widehat{\\mbox{score}} = \\widehat{\\alpha} + \\widehat{\\beta} x_i = 3.88  + 0.067 \\cdot \\mbox{bty_avg}$$\n",
        "\n",
        "where\n",
        "\n",
        "  * $\\widehat{\\alpha} = 3.8803$ is the intercept coefficient and means that, for any instructor with a `bty_avg = 0`, their average teaching `score` would be 3.8803. Note that `bty_avg = 0` is not actually possible as  `bty_avg` is an average of beauty scores ranging between 1 and 10.\n",
        "  * $\\widehat{\\beta} = 0.0666$ is the slope coefficient associated with the exploratory variable `bty_avg`, and summarises the relationship between `score` and `bty_avg`. That is, as `bty_avg` increases, so does `score`, such that\n",
        "    * For every 1 unit increase in `bty_avg`, there is an associated increase of, on average, 0.0067 units of `score`.\n",
        "\n",
        "Finally, we can superimpose our best-fitting line onto our scatterplot to see how it fits through the points using the `regplot` function as follows:"
      ],
      "metadata": {
        "id": "jr3oD87hXaYJ"
      }
    },
    {
      "cell_type": "code",
      "source": [
        "sp=sns.regplot(data = evals_scores, x = 'bty_avg', y = 'score', fit_reg = True)\n",
        "sp.set(xlabel='Beauty Score',ylabel='Teaching Score',title='Relationship of teaching and beauty scores')\n",
        "plt.show()"
      ],
      "metadata": {
        "colab": {
          "base_uri": "https://localhost:8080/",
          "height": 295
        },
        "id": "u9eP8VlYYFNb",
        "outputId": "55a88053-2edf-47b6-b76e-125b69574bea"
      },
      "execution_count": null,
      "outputs": [
        {
          "output_type": "display_data",
          "data": {
            "text/plain": [
              "<Figure size 432x288 with 1 Axes>"
            ],
            "image/png": "[encoded data removed]"
          },
          "metadata": {
            "needs_background": "light"
          }
        }
      ]
    },
    {
      "cell_type": "markdown",
      "source": [
        "Now that we have fitted our simple linear regression model to the data, how do we use it to obtain information on individual data points? This can be done by looking at the **fitted values**. For example, let's say we are interested in looking at the 21st instructor who has the following teaching and beauty scores:\n",
        "\n",
        "| `score`| `bty_avg`|\n",
        "|-----:|-------:|\n",
        "|   4.9|   7.33|\n",
        "\n",
        "What would the `score` be on our best-fitting line for this instructor with a `bty_avg` of 7.33? We simply plug the instructor's `bty_avg` into our regression model:\n",
        "\n",
        "$$\\widehat{\\mbox{score}} = 3.88034 + 0.06664 \\cdot \\mbox{bty_avg} = 3.88034 + 0.06664 \\cdot 7.33 = 4.369,$$\n",
        "The regression model gives our instructor a `score` of 4.369. However, we know the `score` of the instructor is 4.9 meaning that our model was out by 0.531. This is known as the **residual** ($\\epsilon$) and can be thought of as the error or *lack of fit* of the regression line. In this case, the residual is given by:\n",
        "\n",
        "$$ \\widehat{\\epsilon} = y - \\widehat{y} = 4.9 - 4.369 = 0.531.$$\n",
        "This is essentially the distance between the fitted regression line and the observed (true) value.\n"
      ],
      "metadata": {
        "id": "YzKX5amJYTi9"
      }
    },
    {
      "cell_type": "markdown",
      "source": [
        "**Question**\n",
        "\n",
        "Obtain the observed `score` and `bty_avg` for the 27th instructor."
      ],
      "metadata": {
        "id": "NB6-o01YYpZE"
      }
    },
    {
      "cell_type": "code",
      "source": [
        "evals_scores.loc[[27]]"
      ],
      "metadata": {
        "colab": {
          "base_uri": "https://localhost:8080/",
          "height": 112
        },
        "id": "Z-nkUX9EZGpM",
        "outputId": "6338c992-a85f-45fa-d427-87aac37b9f72"
      },
      "execution_count": 20,
      "outputs": [
        {
          "output_type": "execute_result",
          "data": {
            "text/plain": [
              "    score  bty_avg\n",
              "ID                \n",
              "27    4.5      5.5"
            ],
            "text/html": [
              "\n",
              "  <div id=\"df-6167353b-df8d-4612-97b7-005c401cbccc\">\n",
              "    <div class=\"colab-df-container\">\n",
              "      <div>\n",
              "<style scoped>\n",
              "    .dataframe tbody tr th:only-of-type {\n",
              "        vertical-align: middle;\n",
              "    }\n",
              "\n",
              "    .dataframe tbody tr th {\n",
              "        vertical-align: top;\n",
              "    }\n",
              "\n",
              "    .dataframe thead th {\n",
              "        text-align: right;\n",
              "    }\n",
              "</style>\n",
              "<table border=\"1\" class=\"dataframe\">\n",
              "  <thead>\n",
              "    <tr style=\"text-align: right;\">\n",
              "      <th></th>\n",
              "      <th>score</th>\n",
              "      <th>bty_avg</th>\n",
              "    </tr>\n",
              "    <tr>\n",
              "      <th>ID</th>\n",
              "      <th></th>\n",
              "      <th></th>\n",
              "    </tr>\n",
              "  </thead>\n",
              "  <tbody>\n",
              "    <tr>\n",
              "      <th>27</th>\n",
              "      <td>4.5</td>\n",
              "      <td>5.5</td>\n",
              "    </tr>\n",
              "  </tbody>\n",
              "</table>\n",
              "</div>\n",
              "      <button class=\"colab-df-convert\" onclick=\"convertToInteractive('df-6167353b-df8d-4612-97b7-005c401cbccc')\"\n",
              "              title=\"Convert this dataframe to an interactive table.\"\n",
              "              style=\"display:none;\">\n",
              "        \n",
              "  <svg xmlns=\"http://www.w3.org/2000/svg\" height=\"24px\"viewBox=\"0 0 24 24\"\n",
              "       width=\"24px\">\n",
              "    <path d=\"M0 0h24v24H0V0z\" fill=\"none\"/>\n",
              "    <path d=\"M18.56 5.44l.94 2.06.94-2.06 2.06-.94-2.06-.94-.94-2.06-.94 2.06-2.06.94zm-11 1L8.5 8.5l.94-2.06 2.06-.94-2.06-.94L8.5 2.5l-.94 2.06-2.06.94zm10 10l.94 2.06.94-2.06 2.06-.94-2.06-.94-.94-2.06-.94 2.06-2.06.94z\"/><path d=\"M17.41 7.96l-1.37-1.37c-.4-.4-.92-.59-1.43-.59-.52 0-1.04.2-1.43.59L10.3 9.45l-7.72 7.72c-.78.78-.78 2.05 0 2.83L4 21.41c.39.39.9.59 1.41.59.51 0 1.02-.2 1.41-.59l7.78-7.78 2.81-2.81c.8-.78.8-2.07 0-2.86zM5.41 20L4 18.59l7.72-7.72 1.47 1.35L5.41 20z\"/>\n",
              "  </svg>\n",
              "      </button>\n",
              "      \n",
              "  <style>\n",
              "    .colab-df-container {\n",
              "      display:flex;\n",
              "      flex-wrap:wrap;\n",
              "      gap: 12px;\n",
              "    }\n",
              "\n",
              "    .colab-df-convert {\n",
              "      background-color: #E8F0FE;\n",
              "      border: none;\n",
              "      border-radius: 50%;\n",
              "      cursor: pointer;\n",
              "      display: none;\n",
              "      fill: #1967D2;\n",
              "      height: 32px;\n",
              "      padding: 0 0 0 0;\n",
              "      width: 32px;\n",
              "    }\n",
              "\n",
              "    .colab-df-convert:hover {\n",
              "      background-color: #E2EBFA;\n",
              "      box-shadow: 0px 1px 2px rgba(60, 64, 67, 0.3), 0px 1px 3px 1px rgba(60, 64, 67, 0.15);\n",
              "      fill: #174EA6;\n",
              "    }\n",
              "\n",
              "    [theme=dark] .colab-df-convert {\n",
              "      background-color: #3B4455;\n",
              "      fill: #D2E3FC;\n",
              "    }\n",
              "\n",
              "    [theme=dark] .colab-df-convert:hover {\n",
              "      background-color: #434B5C;\n",
              "      box-shadow: 0px 1px 3px 1px rgba(0, 0, 0, 0.15);\n",
              "      filter: drop-shadow(0px 1px 2px rgba(0, 0, 0, 0.3));\n",
              "      fill: #FFFFFF;\n",
              "    }\n",
              "  </style>\n",
              "\n",
              "      <script>\n",
              "        const buttonEl =\n",
              "          document.querySelector('#df-6167353b-df8d-4612-97b7-005c401cbccc button.colab-df-convert');\n",
              "        buttonEl.style.display =\n",
              "          google.colab.kernel.accessAllowed ? 'block' : 'none';\n",
              "\n",
              "        async function convertToInteractive(key) {\n",
              "          const element = document.querySelector('#df-6167353b-df8d-4612-97b7-005c401cbccc');\n",
              "          const dataTable =\n",
              "            await google.colab.kernel.invokeFunction('convertToInteractive',\n",
              "                                                     [key], {});\n",
              "          if (!dataTable) return;\n",
              "\n",
              "          const docLinkHtml = 'Like what you see? Visit the ' +\n",
              "            '<a target=\"_blank\" href=https://colab.research.google.com/notebooks/data_table.ipynb>data table notebook</a>'\n",
              "            + ' to learn more about interactive tables.';\n",
              "          element.innerHTML = '';\n",
              "          dataTable['output_type'] = 'display_data';\n",
              "          await google.colab.output.renderOutput(dataTable, element);\n",
              "          const docLink = document.createElement('div');\n",
              "          docLink.innerHTML = docLinkHtml;\n",
              "          element.appendChild(docLink);\n",
              "        }\n",
              "      </script>\n",
              "    </div>\n",
              "  </div>\n",
              "  "
            ]
          },
          "metadata": {},
          "execution_count": 20
        }
      ]
    },
    {
      "cell_type": "markdown",
      "source": [
        "To obtain the fitted values and residuals for all instructors within the data set, we can use the `fittedvalues` function and the `resid` function to find both of these values. "
      ],
      "metadata": {
        "id": "O4lmtJ3ZYyDl"
      }
    },
    {
      "cell_type": "code",
      "source": [
        "print(result.fittedvalues)\n",
        "print(result.resid)"
      ],
      "metadata": {
        "colab": {
          "base_uri": "https://localhost:8080/"
        },
        "id": "gqwcydASakBf",
        "outputId": "eab7f878-3160-4ab3-e613-b9f5d33d3a90"
      },
      "execution_count": 19,
      "outputs": [
        {
          "output_type": "stream",
          "name": "stdout",
          "text": [
            "ID\n",
            "1      4.213523\n",
            "2      4.213523\n",
            "3      4.213523\n",
            "4      4.213523\n",
            "5      4.080249\n",
            "         ...   \n",
            "459    4.335669\n",
            "460    4.235713\n",
            "461    4.235713\n",
            "462    4.235713\n",
            "463    4.235713\n",
            "Length: 463, dtype: float64\n",
            "ID\n",
            "1      0.486477\n",
            "2     -0.113523\n",
            "3     -0.313523\n",
            "4      0.586477\n",
            "5      0.519751\n",
            "         ...   \n",
            "459    0.164331\n",
            "460   -0.735713\n",
            "461    0.164287\n",
            "462    0.164287\n",
            "463   -0.135713\n",
            "Length: 463, dtype: float64\n"
          ]
        }
      ]
    },
    {
      "cell_type": "markdown",
      "source": [
        "# Assessing model fit\n",
        "\n",
        "When we fit a simple linear regression model there are five main assumptions that we need to hold true in order for the model to be an appropriate fit to the data. These assumptions are:\n",
        "\n",
        "1. The deterministic part of the model captures all the non-random structure in the data, i.e. the residuals have mean zero.\n",
        "2. The scale of the variability of the residuals is constant at all values of the explanatory variables.\n",
        "3. The residuals are normally distributed.\n",
        "4. The residuals are independent.\n",
        "5. The values of the explanatory variables are recorded without error.\n",
        "\n",
        "One way we can check our first assumption is to plot the residuals (`residuals`) against the explanatory variable (`bty_avg`). From this we should be able to check that the explanatory variable has a linear relationship with the outcome variable (`score`). We can plot the residuals against our explanatory variable using:"
      ],
      "metadata": {
        "id": "S9V7et8-cfmT"
      }
    },
    {
      "cell_type": "code",
      "source": [
        "sp=sns.relplot(x=evals_scores['bty_avg'],y=result.resid)\n",
        "sp.set(xlabel='Beauty Score',ylabel='Residuals',title='Plot of residuals against beauty score')\n",
        "plt.axhline(y=0,ls=\"--\",color=\"red\")\n",
        "plt.show()"
      ],
      "metadata": {
        "colab": {
          "base_uri": "https://localhost:8080/",
          "height": 385
        },
        "id": "6iuJiMSNcvqD",
        "outputId": "0b74058f-17c2-41a8-84d5-dacfaa09ad93"
      },
      "execution_count": 21,
      "outputs": [
        {
          "output_type": "display_data",
          "data": {
            "text/plain": [
              "<Figure size 360x360 with 1 Axes>"
            ],
            "image/png": "[encoded data removed]"
          },
          "metadata": {
            "needs_background": "light"
          }
        }
      ]
    },
    {
      "cell_type": "markdown",
      "source": [
        "\n",
        "Ideally, for the first assumption to hold we should observe the following:\n",
        "\n",
        "  * There should be no systematic pattern, i.e.\\ the residuals should appear randomly scattered.\n",
        "  * The residuals should have mean zero. That is, they should be evenly scattered above and below the zero line. This is because the regression model will overestimate some of the fitted values, but it will also underestimate some, and hence, on average, they should even out to have mean zero.\n",
        "\n",
        "We can examine our first two assumptions by also plotting the residuals against the fitted values as follows:\n",
        "\n",
        "\n",
        "\n",
        "\n",
        "\n"
      ],
      "metadata": {
        "id": "yCTC7ZW3eqpP"
      }
    },
    {
      "cell_type": "code",
      "source": [
        "sp=sns.relplot(x=result.fittedvalues,y=result.resid)\n",
        "sp.set(xlabel='Fitted values',ylabel='Residuals',title='Plot of residuals against fitted values')\n",
        "plt.axhline(y=0,ls=\"--\",color=\"red\")\n",
        "plt.show()"
      ],
      "metadata": {
        "colab": {
          "base_uri": "https://localhost:8080/",
          "height": 385
        },
        "id": "cGPSjqmefHSF",
        "outputId": "d1e54726-113d-4ae8-903b-20c2304e50ac"
      },
      "execution_count": 22,
      "outputs": [
        {
          "output_type": "display_data",
          "data": {
            "text/plain": [
              "<Figure size 360x360 with 1 Axes>"
            ],
            "image/png": "[encoded data removed]"
          },
          "metadata": {
            "needs_background": "light"
          }
        }
      ]
    },
    {
      "cell_type": "markdown",
      "source": [
        "From the plot of the residuals against the fitted values we want to examine whether:\n",
        "\n",
        "  * The residuals have mean zero.\n",
        "  * If the residuals have constant variance across all levels of the fitted values. That is, the range (or spread) of the residuals should be similar across all levels of the fitted values and display no obvious changes in variability.\n",
        "\n",
        "  We can see from the above plot that both of these assumptions do appear to hold.\n",
        "\n",
        "To assess our third assumption that the residuals are normally distributed we can simply plot a histogram of the residuals, with a superimposed kernel density estimite attached (this can be removed by setting `kde=False`:"
      ],
      "metadata": {
        "id": "-63-MPOhfHfM"
      }
    },
    {
      "cell_type": "code",
      "source": [
        "sp=sns.histplot(x=result.resid,kde=True)\n",
        "sp.set(xlabel='Residuals',title='Histogram of residuals')\n",
        "plt.show()"
      ],
      "metadata": {
        "colab": {
          "base_uri": "https://localhost:8080/",
          "height": 295
        },
        "id": "4aFn8LskfeHn",
        "outputId": "8171fcfd-9859-4e3e-f09d-eb8cc5186f29"
      },
      "execution_count": 23,
      "outputs": [
        {
          "output_type": "display_data",
          "data": {
            "text/plain": [
              "<Figure size 432x288 with 1 Axes>"
            ],
            "image/png": "[encoded data removed]"
          },
          "metadata": {
            "needs_background": "light"
          }
        }
      ]
    },
    {
      "cell_type": "markdown",
      "source": [
        "Ideally, for the assumption of normally distributed residuals, the histogram should be bell-shaped and centred at zero, i.e. the residuals have mean zero. However, in practice this will almost never be the case, and as such, like the plots of the residuals, there is some subjectivity in whether you believe the assumptions hold. For instance, here we can see that the histogram is slightly skewed to the left in that the distribution has a longer tail to the left. However, in my opinion, this is not of much concern as the histogram appears to be relatively symmetrical and bell-shaped, and as such the assumption of normally distributed random errors appears valid in this case.  \n",
        "\n",
        "Finally, assumptions 4. and 5. are often justified on the basis of the experimental context and are not formally examined."
      ],
      "metadata": {
        "id": "hyYlm53pgrIg"
      }
    },
    {
      "cell_type": "markdown",
      "source": [
        "# Simple linear regression with one categorical explanatory variable\n",
        "\n",
        "Here, we will fit a simple linear regression model were the explanatory variable is categorical. A **categorical variable** is a variable of a fixed number of possible values, assigning units to particular groups (or categories) based on qualitative properties.\n",
        "\n",
        "We shall examine the `gapminder` data set from the `gapminder` library in R. We will use a csv version of this data for our example. This is a data set on life expectancy across various countries around the world. We will explore life expectancy and its potential differences:\n",
        "\n",
        "  * Between continents: Does life expectancy vary, on average, between the five continents of the world?; and\n",
        "  * Within continents: Does life expectancy vary, on average, within the five continents of the world?\n",
        "\n",
        "Thus, we will be looking at:\n",
        "\n",
        "  * life expectancy as our numerical outcome variable $y$; and\n",
        "  * the continent a country is within as our categorical variable $x$.\n",
        "\n",
        "Before we begin, we should read in the data. Again, you can do this using the following code, or read in locally by downloading the data from Moodle"
      ],
      "metadata": {
        "id": "eRTPf6_qgzZA"
      }
    },
    {
      "cell_type": "code",
      "source": [
        "url = 'https://github.com/craigalexander/DAS23/raw/main/Data/gapminder.csv'\n",
        "gapminder = pd.read_csv(url,index_col=False)\n",
        "\n",
        "# We will need to convert some data to categories - BE SURE TO RUN THIS, EVEN IF READING IN LOCALLY!\n",
        "gapminder['country'] = gapminder.country.astype('category')\n",
        "gapminder['continent'] = gapminder.continent.astype('category')"
      ],
      "metadata": {
        "id": "rQIJ-YY1iHvp"
      },
      "execution_count": 24,
      "outputs": []
    },
    {
      "cell_type": "markdown",
      "source": [
        "# Exploratory Data Analysis\n",
        "\n",
        "Let's examine a subset of the `gapminder` data set relating to the year 2007. First, we will subset the data using `pandas`"
      ],
      "metadata": {
        "id": "vMYq7jxQheqs"
      }
    },
    {
      "cell_type": "code",
      "source": [
        "gapminder2007 = gapminder.loc[gapminder['year'] == 2007]\n",
        "print(gapminder2007)\n"
      ],
      "metadata": {
        "colab": {
          "base_uri": "https://localhost:8080/"
        },
        "id": "Fj598JfOi0d3",
        "outputId": "6b4f4789-61c1-41eb-96d4-c13dc09fa719"
      },
      "execution_count": 25,
      "outputs": [
        {
          "output_type": "stream",
          "name": "stdout",
          "text": [
            "                 country continent  year  lifeExp       pop     gdpPercap\n",
            "11           Afghanistan      Asia  2007   43.828  31889923    974.580338\n",
            "23               Albania    Europe  2007   76.423   3600523   5937.029526\n",
            "35               Algeria    Africa  2007   72.301  33333216   6223.367465\n",
            "47                Angola    Africa  2007   42.731  12420476   4797.231267\n",
            "59             Argentina  Americas  2007   75.320  40301927  12779.379640\n",
            "...                  ...       ...   ...      ...       ...           ...\n",
            "1655             Vietnam      Asia  2007   74.249  85262356   2441.576404\n",
            "1667  West Bank and Gaza      Asia  2007   73.422   4018332   3025.349798\n",
            "1679         Yemen, Rep.      Asia  2007   62.698  22211743   2280.769906\n",
            "1691              Zambia    Africa  2007   42.384  11746035   1271.211593\n",
            "1703            Zimbabwe    Africa  2007   43.487  12311143    469.709298\n",
            "\n",
            "[142 rows x 6 columns]\n"
          ]
        }
      ]
    },
    {
      "cell_type": "markdown",
      "source": [
        "We can take a closer look at the variable types in the data frame by running the command below"
      ],
      "metadata": {
        "id": "6IWoCy31kBHt"
      }
    },
    {
      "cell_type": "code",
      "source": [
        "gapminder2007.dtypes"
      ],
      "metadata": {
        "colab": {
          "base_uri": "https://localhost:8080/"
        },
        "id": "T_t87HuIkiG_",
        "outputId": "17ba4466-3361-4e27-d81a-ea369dbd7c02"
      },
      "execution_count": 26,
      "outputs": [
        {
          "output_type": "execute_result",
          "data": {
            "text/plain": [
              "country      category\n",
              "continent    category\n",
              "year            int64\n",
              "lifeExp       float64\n",
              "pop             int64\n",
              "gdpPercap     float64\n",
              "dtype: object"
            ]
          },
          "metadata": {},
          "execution_count": 26
        }
      ]
    },
    {
      "cell_type": "markdown",
      "source": [
        "We can see that both `country` and `continent` are `category` types, which is how Python and `pandas` stores categorical variables. For this example, we will take a look at `lifeExp` and `continent`. "
      ],
      "metadata": {
        "id": "hNknvyC5kcZk"
      }
    },
    {
      "cell_type": "code",
      "source": [
        "gapminder2007 = gapminder2007[[\"continent\",\"lifeExp\"]]\n",
        "print(gapminder2007)"
      ],
      "metadata": {
        "colab": {
          "base_uri": "https://localhost:8080/"
        },
        "id": "sY87LzJ7mt2i",
        "outputId": "96ca0183-4a32-4a5b-9fe2-1806b3db7031"
      },
      "execution_count": 27,
      "outputs": [
        {
          "output_type": "stream",
          "name": "stdout",
          "text": [
            "     continent  lifeExp\n",
            "11        Asia   43.828\n",
            "23      Europe   76.423\n",
            "35      Africa   72.301\n",
            "47      Africa   42.731\n",
            "59    Americas   75.320\n",
            "...        ...      ...\n",
            "1655      Asia   74.249\n",
            "1667      Asia   73.422\n",
            "1679      Asia   62.698\n",
            "1691    Africa   42.384\n",
            "1703    Africa   43.487\n",
            "\n",
            "[142 rows x 2 columns]\n"
          ]
        }
      ]
    },
    {
      "cell_type": "markdown",
      "source": [
        "Again, we can take a quick look at a numerical summary of the data as follows:"
      ],
      "metadata": {
        "id": "HHQ-Ognwm-AF"
      }
    },
    {
      "cell_type": "code",
      "source": [
        "gapminder2007.describe(include='all')"
      ],
      "metadata": {
        "colab": {
          "base_uri": "https://localhost:8080/",
          "height": 394
        },
        "id": "1VzZmVeXnINh",
        "outputId": "cf683da6-7c54-4654-9295-de7ba3587480"
      },
      "execution_count": 28,
      "outputs": [
        {
          "output_type": "execute_result",
          "data": {
            "text/plain": [
              "       continent     lifeExp\n",
              "count        142  142.000000\n",
              "unique         5         NaN\n",
              "top       Africa         NaN\n",
              "freq          52         NaN\n",
              "mean         NaN   67.007423\n",
              "std          NaN   12.073021\n",
              "min          NaN   39.613000\n",
              "25%          NaN   57.160250\n",
              "50%          NaN   71.935500\n",
              "75%          NaN   76.413250\n",
              "max          NaN   82.603000"
            ],
            "text/html": [
              "\n",
              "  <div id=\"df-ebb4a563-2e09-430b-9c41-c4795829f055\">\n",
              "    <div class=\"colab-df-container\">\n",
              "      <div>\n",
              "<style scoped>\n",
              "    .dataframe tbody tr th:only-of-type {\n",
              "        vertical-align: middle;\n",
              "    }\n",
              "\n",
              "    .dataframe tbody tr th {\n",
              "        vertical-align: top;\n",
              "    }\n",
              "\n",
              "    .dataframe thead th {\n",
              "        text-align: right;\n",
              "    }\n",
              "</style>\n",
              "<table border=\"1\" class=\"dataframe\">\n",
              "  <thead>\n",
              "    <tr style=\"text-align: right;\">\n",
              "      <th></th>\n",
              "      <th>continent</th>\n",
              "      <th>lifeExp</th>\n",
              "    </tr>\n",
              "  </thead>\n",
              "  <tbody>\n",
              "    <tr>\n",
              "      <th>count</th>\n",
              "      <td>142</td>\n",
              "      <td>142.000000</td>\n",
              "    </tr>\n",
              "    <tr>\n",
              "      <th>unique</th>\n",
              "      <td>5</td>\n",
              "      <td>NaN</td>\n",
              "    </tr>\n",
              "    <tr>\n",
              "      <th>top</th>\n",
              "      <td>Africa</td>\n",
              "      <td>NaN</td>\n",
              "    </tr>\n",
              "    <tr>\n",
              "      <th>freq</th>\n",
              "      <td>52</td>\n",
              "      <td>NaN</td>\n",
              "    </tr>\n",
              "    <tr>\n",
              "      <th>mean</th>\n",
              "      <td>NaN</td>\n",
              "      <td>67.007423</td>\n",
              "    </tr>\n",
              "    <tr>\n",
              "      <th>std</th>\n",
              "      <td>NaN</td>\n",
              "      <td>12.073021</td>\n",
              "    </tr>\n",
              "    <tr>\n",
              "      <th>min</th>\n",
              "      <td>NaN</td>\n",
              "      <td>39.613000</td>\n",
              "    </tr>\n",
              "    <tr>\n",
              "      <th>25%</th>\n",
              "      <td>NaN</td>\n",
              "      <td>57.160250</td>\n",
              "    </tr>\n",
              "    <tr>\n",
              "      <th>50%</th>\n",
              "      <td>NaN</td>\n",
              "      <td>71.935500</td>\n",
              "    </tr>\n",
              "    <tr>\n",
              "      <th>75%</th>\n",
              "      <td>NaN</td>\n",
              "      <td>76.413250</td>\n",
              "    </tr>\n",
              "    <tr>\n",
              "      <th>max</th>\n",
              "      <td>NaN</td>\n",
              "      <td>82.603000</td>\n",
              "    </tr>\n",
              "  </tbody>\n",
              "</table>\n",
              "</div>\n",
              "      <button class=\"colab-df-convert\" onclick=\"convertToInteractive('df-ebb4a563-2e09-430b-9c41-c4795829f055')\"\n",
              "              title=\"Convert this dataframe to an interactive table.\"\n",
              "              style=\"display:none;\">\n",
              "        \n",
              "  <svg xmlns=\"http://www.w3.org/2000/svg\" height=\"24px\"viewBox=\"0 0 24 24\"\n",
              "       width=\"24px\">\n",
              "    <path d=\"M0 0h24v24H0V0z\" fill=\"none\"/>\n",
              "    <path d=\"M18.56 5.44l.94 2.06.94-2.06 2.06-.94-2.06-.94-.94-2.06-.94 2.06-2.06.94zm-11 1L8.5 8.5l.94-2.06 2.06-.94-2.06-.94L8.5 2.5l-.94 2.06-2.06.94zm10 10l.94 2.06.94-2.06 2.06-.94-2.06-.94-.94-2.06-.94 2.06-2.06.94z\"/><path d=\"M17.41 7.96l-1.37-1.37c-.4-.4-.92-.59-1.43-.59-.52 0-1.04.2-1.43.59L10.3 9.45l-7.72 7.72c-.78.78-.78 2.05 0 2.83L4 21.41c.39.39.9.59 1.41.59.51 0 1.02-.2 1.41-.59l7.78-7.78 2.81-2.81c.8-.78.8-2.07 0-2.86zM5.41 20L4 18.59l7.72-7.72 1.47 1.35L5.41 20z\"/>\n",
              "  </svg>\n",
              "      </button>\n",
              "      \n",
              "  <style>\n",
              "    .colab-df-container {\n",
              "      display:flex;\n",
              "      flex-wrap:wrap;\n",
              "      gap: 12px;\n",
              "    }\n",
              "\n",
              "    .colab-df-convert {\n",
              "      background-color: #E8F0FE;\n",
              "      border: none;\n",
              "      border-radius: 50%;\n",
              "      cursor: pointer;\n",
              "      display: none;\n",
              "      fill: #1967D2;\n",
              "      height: 32px;\n",
              "      padding: 0 0 0 0;\n",
              "      width: 32px;\n",
              "    }\n",
              "\n",
              "    .colab-df-convert:hover {\n",
              "      background-color: #E2EBFA;\n",
              "      box-shadow: 0px 1px 2px rgba(60, 64, 67, 0.3), 0px 1px 3px 1px rgba(60, 64, 67, 0.15);\n",
              "      fill: #174EA6;\n",
              "    }\n",
              "\n",
              "    [theme=dark] .colab-df-convert {\n",
              "      background-color: #3B4455;\n",
              "      fill: #D2E3FC;\n",
              "    }\n",
              "\n",
              "    [theme=dark] .colab-df-convert:hover {\n",
              "      background-color: #434B5C;\n",
              "      box-shadow: 0px 1px 3px 1px rgba(0, 0, 0, 0.15);\n",
              "      filter: drop-shadow(0px 1px 2px rgba(0, 0, 0, 0.3));\n",
              "      fill: #FFFFFF;\n",
              "    }\n",
              "  </style>\n",
              "\n",
              "      <script>\n",
              "        const buttonEl =\n",
              "          document.querySelector('#df-ebb4a563-2e09-430b-9c41-c4795829f055 button.colab-df-convert');\n",
              "        buttonEl.style.display =\n",
              "          google.colab.kernel.accessAllowed ? 'block' : 'none';\n",
              "\n",
              "        async function convertToInteractive(key) {\n",
              "          const element = document.querySelector('#df-ebb4a563-2e09-430b-9c41-c4795829f055');\n",
              "          const dataTable =\n",
              "            await google.colab.kernel.invokeFunction('convertToInteractive',\n",
              "                                                     [key], {});\n",
              "          if (!dataTable) return;\n",
              "\n",
              "          const docLinkHtml = 'Like what you see? Visit the ' +\n",
              "            '<a target=\"_blank\" href=https://colab.research.google.com/notebooks/data_table.ipynb>data table notebook</a>'\n",
              "            + ' to learn more about interactive tables.';\n",
              "          element.innerHTML = '';\n",
              "          dataTable['output_type'] = 'display_data';\n",
              "          await google.colab.output.renderOutput(dataTable, element);\n",
              "          const docLink = document.createElement('div');\n",
              "          docLink.innerHTML = docLinkHtml;\n",
              "          element.appendChild(docLink);\n",
              "        }\n",
              "      </script>\n",
              "    </div>\n",
              "  </div>\n",
              "  "
            ]
          },
          "metadata": {},
          "execution_count": 28
        }
      ]
    },
    {
      "cell_type": "markdown",
      "source": [
        "The summary output for the numerical variable `lifeExp` is the same as we have seen previously. However, for the categorical variable `continent` we observe no numerical summaries. Instead, we obtain the following:\n",
        "\n",
        "\n",
        "\n",
        "*   `unique` - the number of levels (or categories) of the variable\n",
        "*   `top` - the category with the most observations\n",
        "*  `count` - the total count for the top category\n",
        "\n"
      ],
      "metadata": {
        "id": "ypbylWcEnBc6"
      }
    },
    {
      "cell_type": "markdown",
      "source": [
        "We can summarise any differences in life expectancy by continent and taking a look at the median and mean life expectancies for each continent using"
      ],
      "metadata": {
        "id": "85pwKqiIoi_6"
      }
    },
    {
      "cell_type": "code",
      "source": [
        "gapminder2007.groupby(\"continent\").agg([\"mean\",\"median\"])\n"
      ],
      "metadata": {
        "colab": {
          "base_uri": "https://localhost:8080/",
          "height": 269
        },
        "id": "FqKiihR-opXB",
        "outputId": "c118a2c7-b925-41db-cc3e-00d5f83e25fe"
      },
      "execution_count": 29,
      "outputs": [
        {
          "output_type": "execute_result",
          "data": {
            "text/plain": [
              "             lifeExp         \n",
              "                mean   median\n",
              "continent                    \n",
              "Africa     54.806038  52.9265\n",
              "Americas   73.608120  72.8990\n",
              "Asia       70.728485  72.3960\n",
              "Europe     77.648600  78.6085\n",
              "Oceania    80.719500  80.7195"
            ],
            "text/html": [
              "\n",
              "  <div id=\"df-d298611c-fa11-4cd4-98f8-8b09f5f18917\">\n",
              "    <div class=\"colab-df-container\">\n",
              "      <div>\n",
              "<style scoped>\n",
              "    .dataframe tbody tr th:only-of-type {\n",
              "        vertical-align: middle;\n",
              "    }\n",
              "\n",
              "    .dataframe tbody tr th {\n",
              "        vertical-align: top;\n",
              "    }\n",
              "\n",
              "    .dataframe thead tr th {\n",
              "        text-align: left;\n",
              "    }\n",
              "\n",
              "    .dataframe thead tr:last-of-type th {\n",
              "        text-align: right;\n",
              "    }\n",
              "</style>\n",
              "<table border=\"1\" class=\"dataframe\">\n",
              "  <thead>\n",
              "    <tr>\n",
              "      <th></th>\n",
              "      <th colspan=\"2\" halign=\"left\">lifeExp</th>\n",
              "    </tr>\n",
              "    <tr>\n",
              "      <th></th>\n",
              "      <th>mean</th>\n",
              "      <th>median</th>\n",
              "    </tr>\n",
              "    <tr>\n",
              "      <th>continent</th>\n",
              "      <th></th>\n",
              "      <th></th>\n",
              "    </tr>\n",
              "  </thead>\n",
              "  <tbody>\n",
              "    <tr>\n",
              "      <th>Africa</th>\n",
              "      <td>54.806038</td>\n",
              "      <td>52.9265</td>\n",
              "    </tr>\n",
              "    <tr>\n",
              "      <th>Americas</th>\n",
              "      <td>73.608120</td>\n",
              "      <td>72.8990</td>\n",
              "    </tr>\n",
              "    <tr>\n",
              "      <th>Asia</th>\n",
              "      <td>70.728485</td>\n",
              "      <td>72.3960</td>\n",
              "    </tr>\n",
              "    <tr>\n",
              "      <th>Europe</th>\n",
              "      <td>77.648600</td>\n",
              "      <td>78.6085</td>\n",
              "    </tr>\n",
              "    <tr>\n",
              "      <th>Oceania</th>\n",
              "      <td>80.719500</td>\n",
              "      <td>80.7195</td>\n",
              "    </tr>\n",
              "  </tbody>\n",
              "</table>\n",
              "</div>\n",
              "      <button class=\"colab-df-convert\" onclick=\"convertToInteractive('df-d298611c-fa11-4cd4-98f8-8b09f5f18917')\"\n",
              "              title=\"Convert this dataframe to an interactive table.\"\n",
              "              style=\"display:none;\">\n",
              "        \n",
              "  <svg xmlns=\"http://www.w3.org/2000/svg\" height=\"24px\"viewBox=\"0 0 24 24\"\n",
              "       width=\"24px\">\n",
              "    <path d=\"M0 0h24v24H0V0z\" fill=\"none\"/>\n",
              "    <path d=\"M18.56 5.44l.94 2.06.94-2.06 2.06-.94-2.06-.94-.94-2.06-.94 2.06-2.06.94zm-11 1L8.5 8.5l.94-2.06 2.06-.94-2.06-.94L8.5 2.5l-.94 2.06-2.06.94zm10 10l.94 2.06.94-2.06 2.06-.94-2.06-.94-.94-2.06-.94 2.06-2.06.94z\"/><path d=\"M17.41 7.96l-1.37-1.37c-.4-.4-.92-.59-1.43-.59-.52 0-1.04.2-1.43.59L10.3 9.45l-7.72 7.72c-.78.78-.78 2.05 0 2.83L4 21.41c.39.39.9.59 1.41.59.51 0 1.02-.2 1.41-.59l7.78-7.78 2.81-2.81c.8-.78.8-2.07 0-2.86zM5.41 20L4 18.59l7.72-7.72 1.47 1.35L5.41 20z\"/>\n",
              "  </svg>\n",
              "      </button>\n",
              "      \n",
              "  <style>\n",
              "    .colab-df-container {\n",
              "      display:flex;\n",
              "      flex-wrap:wrap;\n",
              "      gap: 12px;\n",
              "    }\n",
              "\n",
              "    .colab-df-convert {\n",
              "      background-color: #E8F0FE;\n",
              "      border: none;\n",
              "      border-radius: 50%;\n",
              "      cursor: pointer;\n",
              "      display: none;\n",
              "      fill: #1967D2;\n",
              "      height: 32px;\n",
              "      padding: 0 0 0 0;\n",
              "      width: 32px;\n",
              "    }\n",
              "\n",
              "    .colab-df-convert:hover {\n",
              "      background-color: #E2EBFA;\n",
              "      box-shadow: 0px 1px 2px rgba(60, 64, 67, 0.3), 0px 1px 3px 1px rgba(60, 64, 67, 0.15);\n",
              "      fill: #174EA6;\n",
              "    }\n",
              "\n",
              "    [theme=dark] .colab-df-convert {\n",
              "      background-color: #3B4455;\n",
              "      fill: #D2E3FC;\n",
              "    }\n",
              "\n",
              "    [theme=dark] .colab-df-convert:hover {\n",
              "      background-color: #434B5C;\n",
              "      box-shadow: 0px 1px 3px 1px rgba(0, 0, 0, 0.15);\n",
              "      filter: drop-shadow(0px 1px 2px rgba(0, 0, 0, 0.3));\n",
              "      fill: #FFFFFF;\n",
              "    }\n",
              "  </style>\n",
              "\n",
              "      <script>\n",
              "        const buttonEl =\n",
              "          document.querySelector('#df-d298611c-fa11-4cd4-98f8-8b09f5f18917 button.colab-df-convert');\n",
              "        buttonEl.style.display =\n",
              "          google.colab.kernel.accessAllowed ? 'block' : 'none';\n",
              "\n",
              "        async function convertToInteractive(key) {\n",
              "          const element = document.querySelector('#df-d298611c-fa11-4cd4-98f8-8b09f5f18917');\n",
              "          const dataTable =\n",
              "            await google.colab.kernel.invokeFunction('convertToInteractive',\n",
              "                                                     [key], {});\n",
              "          if (!dataTable) return;\n",
              "\n",
              "          const docLinkHtml = 'Like what you see? Visit the ' +\n",
              "            '<a target=\"_blank\" href=https://colab.research.google.com/notebooks/data_table.ipynb>data table notebook</a>'\n",
              "            + ' to learn more about interactive tables.';\n",
              "          element.innerHTML = '';\n",
              "          dataTable['output_type'] = 'display_data';\n",
              "          await google.colab.output.renderOutput(dataTable, element);\n",
              "          const docLink = document.createElement('div');\n",
              "          docLink.innerHTML = docLinkHtml;\n",
              "          element.appendChild(docLink);\n",
              "        }\n",
              "      </script>\n",
              "    </div>\n",
              "  </div>\n",
              "  "
            ]
          },
          "metadata": {},
          "execution_count": 29
        }
      ]
    },
    {
      "cell_type": "code",
      "source": [],
      "metadata": {
        "id": "i8rjJGQCFWKT"
      },
      "execution_count": null,
      "outputs": []
    },
    {
      "cell_type": "markdown",
      "source": [
        "**Question**\n",
        "\n",
        "Which continent has the lowest life expectancy?"
      ],
      "metadata": {
        "id": "sIN8nrrBpkoq"
      }
    },
    {
      "cell_type": "markdown",
      "source": [
        "**Answer**\n",
        "\n",
        "Africa"
      ],
      "metadata": {
        "id": "A8yni_bZFSny"
      }
    },
    {
      "cell_type": "markdown",
      "source": [
        "Boxplots are often used when examining the distribution of a numerical outcome variable across different levels of a categorical variable:"
      ],
      "metadata": {
        "id": "r0FVzvRjpsuH"
      }
    },
    {
      "cell_type": "code",
      "source": [
        "sp=sns.boxplot(x=\"continent\",y=\"lifeExp\",data=gapminder2007)\n",
        "sp.set(xlabel='Continent',ylabel=\"Life expectancy (years)\",title='Life expectancy by continent')\n",
        "plt.show()"
      ],
      "metadata": {
        "colab": {
          "base_uri": "https://localhost:8080/",
          "height": 295
        },
        "id": "i-TvcKDXpzwn",
        "outputId": "d899ecdc-3b17-4293-eb34-a6ca3550496e"
      },
      "execution_count": 30,
      "outputs": [
        {
          "output_type": "display_data",
          "data": {
            "text/plain": [
              "<Figure size 432x288 with 1 Axes>"
            ],
            "image/png": "[encoded data removed]"
          },
          "metadata": {
            "needs_background": "light"
          }
        }
      ]
    },
    {
      "cell_type": "markdown",
      "source": [
        "Here, we can see that the middle 50% of the life expectancy distribution of Africa is much smaller than, and does not overlap with, the middle 50% of the remaining four continents, while the country with the highest life expectancy in Africa is less than all countries in Oceania. Speaking of Oceania, there is almost no variability (or spread) in life expectancy in this continent, however that may well be because it consists of only two countries (Australia and New Zealand). There is more variability in life expectancy in the continents of Africa and Asia."
      ],
      "metadata": {
        "id": "YxnVKIpLq5BT"
      }
    },
    {
      "cell_type": "markdown",
      "source": [
        "# Formal Analysis\n",
        "\n",
        "When examining the relationship between a numerical outcome variable $y$ and a categorical explanatory variable $x$, we are not just looking to find the best-fitting line to the data as before, but are examining relative differences to a baseline category. \n",
        "\n",
        "Now let us fit our regression model to the data, where `lifeExp` is our outcome variable $y$ and `continent` is our categorical explanatory variable $x$. As before, we will define our model using the fomula syntax. At this stage, be sure to check the `continent` column has been set as a category!"
      ],
      "metadata": {
        "id": "T4MMpvJVq-8S"
      }
    },
    {
      "cell_type": "code",
      "source": [
        "model = ols('lifeExp~continent',data=gapminder2007)\n",
        "result=model.fit() # Fit model\n",
        "\n",
        "print(result.summary())\n",
        "\n",
        "\n"
      ],
      "metadata": {
        "colab": {
          "base_uri": "https://localhost:8080/"
        },
        "id": "tTGQIfsj8pjB",
        "outputId": "6ecc70b9-3a15-4570-a6f3-d3d470c03bbf"
      },
      "execution_count": 31,
      "outputs": [
        {
          "output_type": "stream",
          "name": "stdout",
          "text": [
            "                            OLS Regression Results                            \n",
            "==============================================================================\n",
            "Dep. Variable:                lifeExp   R-squared:                       0.635\n",
            "Model:                            OLS   Adj. R-squared:                  0.625\n",
            "Method:                 Least Squares   F-statistic:                     59.71\n",
            "Date:                Mon, 13 Feb 2023   Prob (F-statistic):           4.22e-29\n",
            "Time:                        12:59:43   Log-Likelihood:                -483.05\n",
            "No. Observations:                 142   AIC:                             976.1\n",
            "Df Residuals:                     137   BIC:                             990.9\n",
            "Df Model:                           4                                         \n",
            "Covariance Type:            nonrobust                                         \n",
            "=========================================================================================\n",
            "                            coef    std err          t      P>|t|      [0.025      0.975]\n",
            "-----------------------------------------------------------------------------------------\n",
            "Intercept                54.8060      1.025     53.446      0.000      52.778      56.834\n",
            "continent[T.Americas]    18.8021      1.800     10.448      0.000      15.243      22.361\n",
            "continent[T.Asia]        15.9224      1.646      9.675      0.000      12.668      19.177\n",
            "continent[T.Europe]      22.8426      1.695     13.474      0.000      19.490      26.195\n",
            "continent[T.Oceania]     25.9135      5.328      4.863      0.000      15.377      36.450\n",
            "==============================================================================\n",
            "Omnibus:                        7.918   Durbin-Watson:                   1.978\n",
            "Prob(Omnibus):                  0.019   Jarque-Bera (JB):               13.912\n",
            "Skew:                           0.159   Prob(JB):                     0.000953\n",
            "Kurtosis:                       4.500   Cond. No.                         9.20\n",
            "==============================================================================\n",
            "\n",
            "Notes:\n",
            "[1] Standard Errors assume that the covariance matrix of the errors is correctly specified.\n"
          ]
        }
      ]
    },
    {
      "cell_type": "markdown",
      "source": [
        "**Note**: For now we will ignore the last five columns of the regression table and only focus on the estimate column.\n",
        "\n",
        "We obtain five estimates: the `intercept` term and four others relating to the continents (`continentAmericas`, `continentAsia`, `continentEurope` and `continentOceania`), such that our regression equation is given as:\n",
        "\n",
        "$$\\widehat{\\mbox{life exp}} = \\widehat{\\alpha} + \\widehat{\\beta}_{\\mbox{Amer}} \\cdot \\mathbb{I}_{\\mbox{Amer}}(x) + \\widehat{\\beta}_{\\mbox{Asia}} \\cdot \\mathbb{I}_{\\mbox{Asia}}(x) + \\widehat{\\beta}_{\\mbox{Euro}} \\cdot \\mathbb{I}_{\\mbox{Euro}}(x) + \\widehat{\\beta}_{\\mbox{Ocean}} \\cdot \\mathbb{I}_{\\mbox{Ocean}}(x),$$\n",
        "\n",
        "where\n",
        "\n",
        "  * the intercept $\\widehat{\\alpha}$ is the mean life expectancy for our baseline category Africa;\n",
        "  * $\\widehat{\\beta}_{\\mbox{continent}}$ is the difference in the mean life expectancy of a given continent relative to the baseline category Africa; and\n",
        "  * $\\mathbb{I}_{\\mbox{continent}}(x)$ is an indicator function such that\n",
        "  \n",
        "$$\\mathbb{I}_{\\mbox{continent}}(x)=\\left\\{\n",
        "\\begin{array}{ll}\n",
        "1 ~~~ \\mbox{if country} ~ x ~ \\mbox{is in the continent},\\\\\n",
        "0 ~~~ \\mbox{Otherwise}.\\\\\n",
        "\\end{array}\n",
        "\\right.$$\n",
        "\n",
        "\n",
        "\n",
        "Essentially, the estimates for each continent are known as *offsets* relative to the baseline category (Africa in this case). For example, the mean life expectancy for Africa is simply equal to the intercept term $\\widehat{\\alpha} = 54.8$. However, the mean life expectancy for Asia is $\\widehat{\\alpha} + \\widehat{\\beta}_{\\mbox{Asia}} \\cdot \\mathbb{I}_{\\mbox{Asia}}(x) = 54.8 + 15.9 \\cdot 1 = 70.7$."
      ],
      "metadata": {
        "id": "-DbYuSDDBPr7"
      }
    },
    {
      "cell_type": "markdown",
      "source": [
        "**Question**\n",
        "\n",
        "From the regression model, what is the mean life expectancy of the Americas?\n",
        "\n"
      ],
      "metadata": {
        "id": "tb65Ug16B7AK"
      }
    },
    {
      "cell_type": "markdown",
      "source": [
        "**Answer**\n",
        "\n",
        "73.6"
      ],
      "metadata": {
        "id": "I0vkgd0RCFuW"
      }
    },
    {
      "cell_type": "markdown",
      "source": [
        "# Assessing model fit\n",
        "\n",
        "We can now take a look at the fitted values and residuals in the same way we did previously:"
      ],
      "metadata": {
        "id": "GiBjRbMZCNpy"
      }
    },
    {
      "cell_type": "code",
      "source": [
        "print(result.fittedvalues)\n",
        "print(result.resid)"
      ],
      "metadata": {
        "colab": {
          "base_uri": "https://localhost:8080/"
        },
        "id": "qPKk8MzFCnSD",
        "outputId": "cf9449c6-2467-4f42-cab1-1c8768cb721d"
      },
      "execution_count": 32,
      "outputs": [
        {
          "output_type": "stream",
          "name": "stdout",
          "text": [
            "11      70.728485\n",
            "23      77.648600\n",
            "35      54.806038\n",
            "47      54.806038\n",
            "59      73.608120\n",
            "          ...    \n",
            "1655    70.728485\n",
            "1667    70.728485\n",
            "1679    70.728485\n",
            "1691    54.806038\n",
            "1703    54.806038\n",
            "Length: 142, dtype: float64\n",
            "11     -26.900485\n",
            "23      -1.225600\n",
            "35      17.494962\n",
            "47     -12.075038\n",
            "59       1.711880\n",
            "          ...    \n",
            "1655     3.520515\n",
            "1667     2.693515\n",
            "1679    -8.030485\n",
            "1691   -12.422038\n",
            "1703   -11.319038\n",
            "Length: 142, dtype: float64\n"
          ]
        }
      ]
    },
    {
      "cell_type": "markdown",
      "source": [
        "You can adjust the code above to join the residuals and fitted values together with the gapminder data with countries attached to find similar conclusions we explored in Week 4.\n",
        "\n",
        "For assessing the assumptions surrounding the residuals for a categorical explanatory variable, we can plot the residuals for each continent (NB - the regplot in `seaborn` does not work with categorical variables to apply jitter, so we will avoid the extra steps here to include this):"
      ],
      "metadata": {
        "id": "Japy9TZSC70J"
      }
    },
    {
      "cell_type": "code",
      "source": [
        "sp=sns.relplot(x=gapminder2007['continent'],y=result.resid)\n",
        "sp.set(xlabel='Continent',ylabel='Residuals',title='Plot of residuals against continent')\n",
        "plt.axhline(y=0,ls=\"--\",color=\"red\")\n",
        "plt.show()"
      ],
      "metadata": {
        "colab": {
          "base_uri": "https://localhost:8080/",
          "height": 385
        },
        "id": "o9wNjyfMDMDS",
        "outputId": "da3d736d-29b4-45f8-980a-d3d1a6704289"
      },
      "execution_count": 33,
      "outputs": [
        {
          "output_type": "display_data",
          "data": {
            "text/plain": [
              "<Figure size 360x360 with 1 Axes>"
            ],
            "image/png": "[encoded data removed]"
          },
          "metadata": {
            "needs_background": "light"
          }
        }
      ]
    },
    {
      "cell_type": "markdown",
      "source": [
        "Here, we see that there is an even spread of the residuals above and below the zero line for each continent, and hence our assumption that the residuals have mean zero appears valid. There is an outlier observed for Asia with a large negative residual (relating to Afghanistan).\n",
        "\n",
        "To check that the residual errors are normally distributed, we plot a histogram of them:"
      ],
      "metadata": {
        "id": "_6Dr2wsMEp5O"
      }
    },
    {
      "cell_type": "code",
      "source": [
        "sp=sns.histplot(x=result.resid,kde=True)\n",
        "sp.set(xlabel='Residuals',title='Histogram of residuals')\n",
        "plt.show()"
      ],
      "metadata": {
        "colab": {
          "base_uri": "https://localhost:8080/",
          "height": 295
        },
        "id": "oEGxnQFIEuoa",
        "outputId": "11a2bdc6-3c75-406e-982e-264ec6bd1519"
      },
      "execution_count": 34,
      "outputs": [
        {
          "output_type": "display_data",
          "data": {
            "text/plain": [
              "<Figure size 432x288 with 1 Axes>"
            ],
            "image/png": "[encoded data removed]"
          },
          "metadata": {
            "needs_background": "light"
          }
        }
      ]
    },
    {
      "cell_type": "markdown",
      "source": [
        "**Question**\n",
        "Are the residuals normally distributed with mean zero?"
      ],
      "metadata": {
        "id": "JqNe0PGpE-ne"
      }
    },
    {
      "cell_type": "markdown",
      "source": [
        "**Answer**\n",
        "\n",
        "Yes, normality seems a reasonable assumption here. We do observe some outliers (Afghanistan) though these are rare."
      ],
      "metadata": {
        "id": "4CEB-dUgFGbr"
      }
    },
    {
      "cell_type": "markdown",
      "source": [
        "# Further tasks\n",
        "\n",
        "Perform a formal analysis of the relationship between teaching score and age by fitting a simple linear regression model. Superimpose your best-fitting line onto the scatterplot of the data. "
      ],
      "metadata": {
        "id": "L8l_XimdFiEy"
      }
    },
    {
      "cell_type": "code",
      "source": [
        "evals_scores = evals[[\"score\",\"age\"]] # Subset data to obtain score and age\n",
        "\n",
        "print(evals_scores.describe()) # Obtain numerical summary of data\n",
        "\n",
        "print(evals_scores.corr()) # Find correlation between score and age (-0.11)\n",
        "\n",
        "# Create scatterplot of scores vs. age (jitter added)\n",
        "sp=sns.regplot(data = evals_scores, x = 'age', y = 'score', fit_reg = False,\n",
        "           x_jitter = 0.1, y_jitter = 0.1)\n",
        "sp.set(xlabel='Age',ylabel='Teaching Score',title='Relationship of teaching and age')\n",
        "plt.show()\n",
        "\n",
        "\n",
        "# Fit OLS model\n",
        "model = ols('score~age',data=evals_scores)\n",
        "result=model.fit()\n",
        "print(result.summary())\n",
        "\n",
        "\n",
        "# Plot of fitted regression line to data\n",
        "sp=sns.regplot(data = evals_scores, x = 'age', y = 'score', fit_reg = True)\n",
        "sp.set(xlabel='Age',ylabel='Teaching Score',title='Relationship of teaching and age')\n",
        "plt.show()\n",
        "\n",
        "# Assumption checking\n",
        "# Residuals vs age\n",
        "sp=sns.relplot(x=evals_scores['age'],y=result.resid)\n",
        "sp.set(xlabel='Age',ylabel='Residuals',title='Plot of residuals against Age')\n",
        "plt.axhline(y=0,ls=\"--\",color=\"red\")\n",
        "plt.show()\n",
        "\n",
        "# Residuals vs. fitted values\n",
        "sp=sns.relplot(x=result.fittedvalues,y=result.resid)\n",
        "sp.set(xlabel='Fitted values',ylabel='Residuals',title='Plot of residuals against fitted values')\n",
        "plt.axhline(y=0,ls=\"--\",color=\"red\")\n",
        "plt.show()\n",
        "\n",
        "# Histogram of residuals\n",
        "sp=sns.histplot(x=result.resid,kde=True)\n",
        "sp.set(xlabel='Residuals',title='Histogram of residuals')\n",
        "plt.show()"
      ],
      "metadata": {
        "colab": {
          "base_uri": "https://localhost:8080/",
          "height": 1000
        },
        "id": "XjgI012fFxMw",
        "outputId": "d4e9f2e3-1b4f-4214-f32f-14db11c952c7"
      },
      "execution_count": 36,
      "outputs": [
        {
          "output_type": "stream",
          "name": "stdout",
          "text": [
            "            score         age\n",
            "count  463.000000  463.000000\n",
            "mean     4.174730   48.365011\n",
            "std      0.543865    9.802742\n",
            "min      2.300000   29.000000\n",
            "25%      3.800000   42.000000\n",
            "50%      4.300000   48.000000\n",
            "75%      4.600000   57.000000\n",
            "max      5.000000   73.000000\n",
            "          score       age\n",
            "score  1.000000 -0.107032\n",
            "age   -0.107032  1.000000\n"
          ]
        },
        {
          "output_type": "display_data",
          "data": {
            "text/plain": [
              "<Figure size 432x288 with 1 Axes>"
            ],
            "image/png": "[encoded data removed]"
          },
          "metadata": {
            "needs_background": "light"
          }
        },
        {
          "output_type": "stream",
          "name": "stdout",
          "text": [
            "                            OLS Regression Results                            \n",
            "==============================================================================\n",
            "Dep. Variable:                  score   R-squared:                       0.011\n",
            "Model:                            OLS   Adj. R-squared:                  0.009\n",
            "Method:                 Least Squares   F-statistic:                     5.342\n",
            "Date:                Mon, 13 Feb 2023   Prob (F-statistic):             0.0213\n",
            "Time:                        13:00:36   Log-Likelihood:                -371.81\n",
            "No. Observations:                 463   AIC:                             747.6\n",
            "Df Residuals:                     461   BIC:                             755.9\n",
            "Df Model:                           1                                         \n",
            "Covariance Type:            nonrobust                                         \n",
            "==============================================================================\n",
            "                 coef    std err          t      P>|t|      [0.025      0.975]\n",
            "------------------------------------------------------------------------------\n",
            "Intercept      4.4619      0.127     35.195      0.000       4.213       4.711\n",
            "age           -0.0059      0.003     -2.311      0.021      -0.011      -0.001\n",
            "==============================================================================\n",
            "Omnibus:                       30.047   Durbin-Watson:                   1.211\n",
            "Prob(Omnibus):                  0.000   Jarque-Bera (JB):               34.658\n",
            "Skew:                          -0.670   Prob(JB):                     2.98e-08\n",
            "Kurtosis:                       3.032   Cond. No.                         249.\n",
            "==============================================================================\n",
            "\n",
            "Notes:\n",
            "[1] Standard Errors assume that the covariance matrix of the errors is correctly specified.\n"
          ]
        },
        {
          "output_type": "display_data",
          "data": {
            "text/plain": [
              "<Figure size 432x288 with 1 Axes>"
            ],
            "image/png": "[encoded data removed]"
          },
          "metadata": {
            "needs_background": "light"
          }
        },
        {
          "output_type": "display_data",
          "data": {
            "text/plain": [
              "<Figure size 360x360 with 1 Axes>"
            ],
            "image/png": "[encoded data removed]"
          },
          "metadata": {
            "needs_background": "light"
          }
        },
        {
          "output_type": "display_data",
          "data": {
            "text/plain": [
              "<Figure size 360x360 with 1 Axes>"
            ],
            "image/png": "[encoded data removed]"
          },
          "metadata": {
            "needs_background": "light"
          }
        },
        {
          "output_type": "display_data",
          "data": {
            "text/plain": [
              "<Figure size 432x288 with 1 Axes>"
            ],
            "image/png": "[encoded data removed]"
          },
          "metadata": {
            "needs_background": "light"
          }
        }
      ]
    },
    {
      "cell_type": "markdown",
      "source": [
        "Perform the same analysis we did on life expectancy from the `gapminder` data set in 2007. However, subset the data for the year 1997. Are there any differences in the results across this 10 year period?"
      ],
      "metadata": {
        "id": "u-xwlAhfFzck"
      }
    },
    {
      "cell_type": "code",
      "source": [
        "# Subset data for 1997\n",
        "gapminder1997 = gapminder.loc[gapminder['year'] == 1997]\n",
        "gapminder1997 = gapminder1997[[\"continent\",\"lifeExp\"]]\n",
        "\n",
        "# Description of data\n",
        "gapminder1997.describe(include='all')\n",
        "\n",
        "# Differences in mean/median by continent\n",
        "gapminder1997.groupby(\"continent\").agg([\"mean\",\"median\"])\n",
        "\n",
        "\n",
        "# Boxplot of data\n",
        "sp=sns.boxplot(x=\"continent\",y=\"lifeExp\",data=gapminder1997)\n",
        "sp.set(xlabel='Continent',ylabel=\"Life expectancy (years)\",title='Life expectancy by continent')\n",
        "plt.show()\n",
        "\n",
        "# Fit model\n",
        "model = ols('lifeExp~continent',data=gapminder1997)\n",
        "result=model.fit() # Fit model\n",
        "\n",
        "print(result.summary())\n",
        "\n",
        "# Assumption checking\n",
        "# Residuals vs. Continent\n",
        "sp=sns.relplot(x=gapminder1997['continent'],y=result.resid)\n",
        "sp.set(xlabel='Continent',ylabel='Residuals',title='Plot of residuals against continent')\n",
        "plt.axhline(y=0,ls=\"--\",color=\"red\")\n",
        "plt.show()\n",
        "\n",
        "# Histogram of residuals\n",
        "sp=sns.histplot(x=result.resid,kde=True)\n",
        "sp.set(xlabel='Residuals',title='Histogram of residuals')\n",
        "plt.show()"
      ],
      "metadata": {
        "colab": {
          "base_uri": "https://localhost:8080/",
          "height": 1000
        },
        "id": "Y40aJ1KfITyZ",
        "outputId": "a4252fb2-3caa-4c0b-b3ee-63098889016c"
      },
      "execution_count": 37,
      "outputs": [
        {
          "output_type": "display_data",
          "data": {
            "text/plain": [
              "<Figure size 432x288 with 1 Axes>"
            ],
            "image/png": "[encoded data removed]"
          },
          "metadata": {
            "needs_background": "light"
          }
        },
        {
          "output_type": "stream",
          "name": "stdout",
          "text": [
            "                            OLS Regression Results                            \n",
            "==============================================================================\n",
            "Dep. Variable:                lifeExp   R-squared:                       0.619\n",
            "Model:                            OLS   Adj. R-squared:                  0.608\n",
            "Method:                 Least Squares   F-statistic:                     55.68\n",
            "Date:                Mon, 13 Feb 2023   Prob (F-statistic):           8.28e-28\n",
            "Time:                        13:01:15   Log-Likelihood:                -479.99\n",
            "No. Observations:                 142   AIC:                             970.0\n",
            "Df Residuals:                     137   BIC:                             984.8\n",
            "Df Model:                           4                                         \n",
            "Covariance Type:            nonrobust                                         \n",
            "=========================================================================================\n",
            "                            coef    std err          t      P>|t|      [0.025      0.975]\n",
            "-----------------------------------------------------------------------------------------\n",
            "Intercept                53.5983      1.004     53.407      0.000      51.614      55.583\n",
            "continent[T.Americas]    17.5522      1.761      9.966      0.000      14.069      21.035\n",
            "continent[T.Asia]        14.4222      1.611      8.954      0.000      11.237      17.607\n",
            "continent[T.Europe]      21.9069      1.659     13.203      0.000      18.626      25.188\n",
            "continent[T.Oceania]     24.5917      5.215      4.716      0.000      14.280      34.904\n",
            "==============================================================================\n",
            "Omnibus:                        6.572   Durbin-Watson:                   1.995\n",
            "Prob(Omnibus):                  0.037   Jarque-Bera (JB):               11.163\n",
            "Skew:                          -0.030   Prob(JB):                      0.00377\n",
            "Kurtosis:                       4.372   Cond. No.                         9.20\n",
            "==============================================================================\n",
            "\n",
            "Notes:\n",
            "[1] Standard Errors assume that the covariance matrix of the errors is correctly specified.\n"
          ]
        },
        {
          "output_type": "display_data",
          "data": {
            "text/plain": [
              "<Figure size 360x360 with 1 Axes>"
            ],
            "image/png": "[encoded data removed]"
          },
          "metadata": {
            "needs_background": "light"
          }
        },
        {
          "output_type": "display_data",
          "data": {
            "text/plain": [
              "<Figure size 432x288 with 1 Axes>"
            ],
            "image/png": "[encoded data removed]"
          },
          "metadata": {
            "needs_background": "light"
          }
        }
      ]
    }
  ]
}