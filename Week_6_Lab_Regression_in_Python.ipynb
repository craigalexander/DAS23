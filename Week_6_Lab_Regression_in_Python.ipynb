{
  "nbformat": 4,
  "nbformat_minor": 0,
  "metadata": {
    "colab": {
      "provenance": [],
      "authorship_tag": "ABX9TyPpBg5DNVTyn1/ndFpq23kA",
      "include_colab_link": true
    },
    "kernelspec": {
      "name": "python3",
      "display_name": "Python 3"
    },
    "language_info": {
      "name": "python"
    }
  },
  "cells": [
    {
      "cell_type": "markdown",
      "metadata": {
        "id": "view-in-github",
        "colab_type": "text"
      },
      "source": [
        "<a href=\"https://colab.research.google.com/github/craigalexander/DAS23/blob/main/Week_6_Lab_Regression_in_Python.ipynb\" target=\"_parent\"><img src=\"https://colab.research.google.com/assets/colab-badge.svg\" alt=\"Open In Colab\"/></a>"
      ]
    },
    {
      "cell_type": "markdown",
      "source": [
        "# Data Analysis Skills - Regression Modelling with Python\n",
        "\n",
        "\n"
      ],
      "metadata": {
        "id": "5_IysUEYHzTY"
      }
    },
    {
      "cell_type": "markdown",
      "source": [
        "# Introduction\n",
        "\n",
        "In Week 4, we covered how to model data in R using regression models. This week, we will look at how we can carry out the same tasks using Python. \n",
        "\n",
        "For this lab, we will be using the same examples as in week 4.\n",
        "\n",
        "As before, the key ideas behind modelling the data is to infer a relationship between:\n",
        "\n",
        "\n",
        "*   **outcome or response variable** $y$ and\n",
        "*   an **explanatory (or predictor) variable(s)** $x$, which can be referred to as an **independent variable** or **covariate**\n",
        "\n",
        "Modelling can be used for two purposes:\n",
        "\n",
        "\n",
        "1.   **Explanation**: For describing the relationship between an outcome variable $y$ and an explanatory variable  $x$, and determining the potential significance of such relationships using quantifiable measures. \n",
        "2.   **Prediction**: for predicting the outcome variable  $y$ given information from one or more explanatory variables.\n",
        "\n",
        "\n",
        "\n",
        "There are many different modelling techniques. However, we will begin with one of the easier to understand and commonly-used approaches, linear regression. In particular, we will start by looking at simple linear regression (SLR), where we only have one explanatory variable. We will then extend these models to allow for more than one explanatory variable using multiple linear regression (MLR).\n"
      ],
      "metadata": {
        "id": "hDeIy4xeQZDn"
      }
    },
    {
      "cell_type": "markdown",
      "source": [
        "# Simple Linear Regression\n",
        "\n",
        "For a response variable  $y$ and an explanatory variable  $x$, the data can be expressed as:\n",
        "\n",
        "$$(y_{i},x_{i}), i=1, \\dots, n$$\n",
        "\n",
        "That is, we have  $n$ observations of  $y$ and  $x$. A statistical model is a mathematical statement describing the variability in a random variable  $y$, which includes any relationship with the explanatory variable  $x$. The inclusion of random (unpredictable) components  $\\epsilon$, makes the model statistical, rather than deterministic. A simple linear regression model involves, as the name suggests, fitting a linear regression line to the data. Hence, a simple linear regression model can be written as follows:\n",
        "\n",
        "\n",
        "\n",
        "*   $y_i$ is the $i^{\\text{th}}$ observation of the response variable;\n",
        "*   $\\alpha$ is the **intercept**; \n",
        "*   $\\beta$ is the **slope** of the regression line;\n",
        "*   $x_i$ is the $i^{\\text{th}}$ observation of the explanatory variable; and\n",
        "*   $\\epsilon_i$ is the $i^{\\text{th}}$ random component.\n",
        "\n",
        "The random components, $\\epsilon_i$, are normally distributed with constant variance $\\sigma^2$, such that we are essentially adding random white noise to the deterministic part of the model $(\\alpha + \\beta x_i)$. Thus, the full probability model for $y_i$ given $x_i$ $(y_{i}|x_i)$ can be written as\n",
        "\n",
        "$$(y_{i}|x_i) \\sim N(\\alpha + \\beta x_i, \\sigma^2)$$\n",
        "\n",
        "Hence, the mean comes from the deterministic part of the model, while the variance comes from the random part. \n",
        "\n",
        "In the lab next week, we will look at how to choose between different models. For this lab, we will focus on using the p-value to decide which terms to include in the model. We will use the standard convention of choosing a 5% level of significnce, and then decide to include terms in the mdel if the p-value of the associated parameter estimate is less than 0.05 (i.e. reject the null hypothesis that the parameter is zero)."
      ],
      "metadata": {
        "id": "q5goQ6eHTNz5"
      }
    },
    {
      "cell_type": "markdown",
      "source": [
        "# Simple linear regression with one numerical explanatory variable\n",
        "\n",
        "First, we will import the following libraries"
      ],
      "metadata": {
        "id": "kfqJbOyckjua"
      }
    },
    {
      "cell_type": "code",
      "execution_count": 1,
      "metadata": {
        "id": "8DSXnXe8HwJs"
      },
      "outputs": [],
      "source": [
        "import pandas as pd\n",
        "import numpy as np"
      ]
    },
    {
      "cell_type": "markdown",
      "source": [
        "Student feedback in higher education is extremely important when it comes to the evaluation of teaching techniques, materials, and improvements in teaching methods and technologies. However, there have been studies into potential bias factors when feedback is provided, such as the physical appearance of the teacher; see [Economics of Education Review](https://www.sciencedirect.com/journal/economics-of-education-review) for details. Here, we shall look at a study from student evaluations of  $n = 463$ professors from The University of Texas at Austin. In particular, we will examine the evaluation scores of the instructors based purely on one numerical variable: their beauty score. Therefore, our simple linear regression model will consist of\n",
        "\n",
        "\n",
        "\n",
        "*   the numerical outcome variable *teaching score $(y)$*; and\n",
        "*   the numerical explanatory variable *beauty score ($x$)*.\n",
        "\n"
      ],
      "metadata": {
        "id": "4LW0e20gmahX"
      }
    },
    {
      "cell_type": "markdown",
      "source": [
        "# Exploratory data analysis\n",
        "\n"
      ],
      "metadata": {
        "id": "iRFmFJytnzv9"
      }
    },
    {
      "cell_type": "code",
      "source": [],
      "metadata": {
        "id": "ak_ChdYBQOIb"
      },
      "execution_count": null,
      "outputs": []
    }
  ]
}